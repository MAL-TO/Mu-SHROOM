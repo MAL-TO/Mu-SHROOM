{
 "cells": [
  {
   "cell_type": "code",
   "execution_count": null,
   "metadata": {},
   "outputs": [],
   "source": [
    "from transformers import AutoModelForCausalLM, AutoModelForSequenceClassification, AutoTokenizer\n",
    "import json\n",
    "import os"
   ]
  },
  {
   "cell_type": "code",
   "execution_count": 2,
   "metadata": {},
   "outputs": [],
   "source": [
    "import torch\n",
    "def generate_full_word(input_ids, model, tokenizer, threshold=0.99):\n",
    "    generated_ids = input_ids\n",
    "    word_count = 0\n",
    "    while True:\n",
    "        outputs = model(generated_ids)\n",
    "        next_token_logits = outputs.logits[:, -1, :]\n",
    "        next_token_probs = torch.softmax(next_token_logits, dim=-1)\n",
    "        next_token_id = torch.argmax(next_token_probs, dim=-1)\n",
    "        next_token_prob = next_token_probs[0, next_token_id]\n",
    "\n",
    "        if next_token_prob < threshold:\n",
    "            break\n",
    "\n",
    "        generated_ids = torch.cat((generated_ids, next_token_id.unsqueeze(0)), dim=1)\n",
    "\n",
    "        # Check if the generated token is a complete word\n",
    "        token = tokenizer.decode(next_token_id, skip_special_tokens=True)\n",
    "        if \" \" in token:\n",
    "            word_count += 1\n",
    "            if word_count >= 2:\n",
    "                # remove the last token\n",
    "                generated_ids = generated_ids[:, :-1]\n",
    "                break\n",
    "    return generated_ids\n",
    "\n",
    "def get_mnli_label(sentence_1, sentence_2, model, tokenizer):\n",
    "    inputs = tokenizer(sentence_1, sentence_2, return_tensors=\"pt\")\n",
    "    # make a prediction\n",
    "    outputs = model(**inputs)\n",
    "    # get the predicted class\n",
    "    predicted_class_idx = outputs.logits.argmax().item()\n",
    "    # get the predicted class name\n",
    "    predicted_class_name = model.config.id2label[predicted_class_idx]\n",
    "    return predicted_class_name"
   ]
  },
  {
   "cell_type": "code",
   "execution_count": null,
   "metadata": {},
   "outputs": [],
   "source": [
    "model_path = \"Qwen/QwQ-32B-Preview\"\n",
    "base_model = AutoModelForCausalLM.from_pretrained(model_path, load_in_4bit = True, device_map='cuda')\n",
    "tokenizer = AutoTokenizer.from_pretrained(model_path)"
   ]
  },
  {
   "cell_type": "code",
   "execution_count": null,
   "metadata": {},
   "outputs": [],
   "source": [
    "mnli_model = AutoModelForSequenceClassification.from_pretrained(\"cross-encoder/nli-deberta-v3-xsmall\")\n",
    "mnli_tokenizer = AutoTokenizer.from_pretrained(\"cross-encoder/nli-deberta-v3-xsmall\")\n",
    "\n",
    "data_dir = \"data/val\"\n",
    "data_file = \"mushroom.en-val.v2.jsonl\"\n",
    "data_path = os.path.join(data_dir, data_file)\n",
    "\n",
    "with open(data_path, \"r\") as f:\n",
    "    data = [json.loads(line) for line in f]"
   ]
  },
  {
   "cell_type": "code",
   "execution_count": 5,
   "metadata": {},
   "outputs": [],
   "source": [
    "def evaluate_hallucination(sentence, base_tokenizer, base_model, mnli_model, mnli_tokenizer):\n",
    "    input = \"[Question] \" + sentence['model_input'] + \" [Answer] \" + sentence['model_output_text']\n",
    "    input_words = input.split(\" \")\n",
    "    words_to_skip = len(sentence['model_input'].split(\" \")) + 2\n",
    "\n",
    "    labels = []\n",
    "\n",
    "\n",
    "    print(f\"Full sentence: {' '.join(input_words)}\")\n",
    "    print(\"\\n\") \n",
    "\n",
    "    for i, sample_to_evaluate in enumerate(input_words):\n",
    "        if i == len(input_words) - 1 or i < words_to_skip-1:\n",
    "            continue\n",
    "\n",
    "        positive_influence = 0\n",
    "        total_influence = 0\n",
    "        # print the actual token and the next one generated \n",
    "        print(f\"Actual token: {sample_to_evaluate}\")\n",
    "        next_generated_token = input_words[i+1]\n",
    "        print(f\"Next generated token: {next_generated_token}\")\n",
    "\n",
    "        sentence_until_now = \" \".join(input_words[:i+1])\n",
    "        print(f\"Sentence until now: {sentence_until_now}\")\n",
    "        token_id_until_now = base_tokenizer.encode(sentence_until_now)\n",
    "        token_id_until_now = torch.tensor(token_id_until_now).to(base_model.device).unsqueeze(0)\n",
    "        len_token_id_until_now = token_id_until_now.shape[1]\n",
    "\n",
    "        # evaluate top k tokens for the next word after until_now\n",
    "        probabilities = base_model(token_id_until_now, return_dict=True).logits.softmax(dim=-1)\n",
    "        probabilities = probabilities[:, -1, :]\n",
    "        topk_probabilities, topk_indices = probabilities.topk(10, dim=-1)\n",
    "\n",
    "        for j in range(10): \n",
    "            token_id = topk_indices[0][j].item()\n",
    "            token_prob = topk_probabilities[0][j].item()\n",
    "            topk_token_ids = generate_full_word(torch.cat((token_id_until_now, torch.tensor([[token_id]]).to(base_model.device)), dim=1), base_model, base_tokenizer)\n",
    "            token = base_tokenizer.decode(topk_token_ids[0][len_token_id_until_now:], skip_special_tokens=True)\n",
    "\n",
    "            relateness = get_mnli_label(next_generated_token, token, mnli_model, mnli_tokenizer)\n",
    "            if relateness == \"entailment\":\n",
    "                positive_influence += token_prob\n",
    "                total_influence += token_prob\n",
    "            elif relateness == \"contradiction\":\n",
    "                total_influence += token_prob\n",
    "            print(f\"Token: {token}, Relateness: {relateness}, Probability: {token_prob}\")\n",
    "        \n",
    "        hallucination_score = 1 - (positive_influence/total_influence)\n",
    "        labels.append(hallucination_score)\n",
    "        print(f\"Hallucination Score: {hallucination_score}\")\n",
    "        print(\"\\n\")\n",
    "    return labels"
   ]
  },
  {
   "cell_type": "code",
   "execution_count": null,
   "metadata": {},
   "outputs": [],
   "source": [
    "for i in range(len(data)):\n",
    "    sentence = data[i]\n",
    "    labels = evaluate_hallucination(sentence, tokenizer, base_model, mnli_model, mnli_tokenizer)\n",
    "    sentence['hallucination_scores_evaluated'] = labels\n",
    "\n",
    "    output_path = os.path.join(data_dir, \"results.jsonl\")\n",
    "    with open(output_path, \"a\") as f:\n",
    "        f.write(json.dumps(sentence) + \"\\n\")\n",
    "        f.close()"
   ]
  }
 ],
 "metadata": {
  "kernelspec": {
   "display_name": "Python 3",
   "language": "python",
   "name": "python3"
  },
  "language_info": {
   "codemirror_mode": {
    "name": "ipython",
    "version": 3
   },
   "file_extension": ".py",
   "mimetype": "text/x-python",
   "name": "python",
   "nbconvert_exporter": "python",
   "pygments_lexer": "ipython3",
   "version": "3.11.11"
  }
 },
 "nbformat": 4,
 "nbformat_minor": 2
}
