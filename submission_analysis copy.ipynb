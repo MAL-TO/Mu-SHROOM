{
 "cells": [
  {
   "cell_type": "code",
   "execution_count": 1,
   "metadata": {},
   "outputs": [],
   "source": [
    "import pandas as pd\n",
    "from scipy.stats import spearmanr\n",
    "import numpy as np\n",
    "\n",
    "import argparse as ap\n",
    "\n",
    "def recompute_hard_labels(soft_labels):\n",
    "    \"\"\"optionally, infer hard labels from the soft labels provided\"\"\"\n",
    "    hard_labels = [] \n",
    "    prev_end = -1\n",
    "    for start, end in (\n",
    "        (lbl['start'], lbl['end']) \n",
    "        for lbl in sorted(soft_labels, key=lambda span: (span['start'], span['end']))\n",
    "        if lbl['prob'] > 0.5\n",
    "    ):\n",
    "        if start == prev_end:\n",
    "            hard_labels[-1][-1] = end\n",
    "        else:\n",
    "            hard_labels.append([start, end])\n",
    "        prev_end = end\n",
    "    return hard_labels\n",
    "\n",
    "\n",
    "def infer_soft_labels(hard_labels):\n",
    "    \"\"\"reformat hard labels into soft labels with prob 1\"\"\"\n",
    "    return [\n",
    "        {\n",
    "            'start': start,\n",
    "            'end': end,\n",
    "            'prob': 1.0,\n",
    "        }\n",
    "        for start, end in hard_labels\n",
    "    ]\n",
    "\n",
    "def load_jsonl_file_to_records(filename, is_ref=True):\n",
    "    \"\"\"read data from a JSONL file and format that as a `pandas.DataFrame`.\n",
    "    Performs minor format checks (ensures that some labels are present,\n",
    "    optionally compute missing labels on the fly).\"\"\"\n",
    "    df = pd.read_json(filename, lines=True)\n",
    "    if not is_ref:\n",
    "        assert ('hard_labels' in df.columns) or ('soft_labels' in df.columns), \\\n",
    "            f'File {filename} contains no predicted label!'\n",
    "        if 'hard_labels' not in df.columns:\n",
    "            df['hard_labels'] = df.soft_labels.apply(recompute_hard_labels)\n",
    "        elif 'soft_labels' not in df.columns:\n",
    "            df['soft_labels'] = df.hard_labels.apply(infer_soft_labels)\n",
    "    # adding an extra column for convenience\n",
    "    columns = ['id', 'soft_labels', 'hard_labels']\n",
    "    if is_ref:\n",
    "        df['text_len'] = df.model_output_text.apply(len)\n",
    "        columns += ['text_len']\n",
    "    df = df[columns]\n",
    "    return df.sort_values('id').to_dict(orient='records')\n",
    "\n",
    "import numpy as np\n",
    "\n",
    "def convert_probs_to_array(probs, dim):\n",
    "    array = np.zeros(dim)\n",
    "    \n",
    "    for prob in probs:\n",
    "        start = prob['start']\n",
    "        end = prob['end']\n",
    "        prob = prob['prob']\n",
    "        \n",
    "        array[start:end] = prob\n",
    "    \n",
    "    return array"
   ]
  },
  {
   "cell_type": "code",
   "execution_count": 2,
   "metadata": {},
   "outputs": [
    {
     "name": "stdout",
     "output_type": "stream",
     "text": [
      "[{'start': 0, 'prob': 0.0, 'end': 1}, {'start': 2, 'prob': 0.5, 'end': 5}, {'start': 6, 'prob': 0.03418754474009489, 'end': 12}, {'start': 13, 'prob': 0.49053712013877837, 'end': 20}, {'start': 21, 'prob': 0.2609859873595429, 'end': 24}, {'start': 25, 'prob': 0.42202103102284605, 'end': 28}, {'start': 29, 'prob': 0.019741670078827378, 'end': 31}, {'start': 32, 'prob': 0.3641924930431427, 'end': 35}, {'start': 36, 'prob': 0.0, 'end': 38}, {'start': 39, 'prob': 0.06187306908187168, 'end': 42}, {'start': 43, 'prob': 0.45969662032800146, 'end': 47}, {'start': 48, 'prob': 0.0, 'end': 53}, {'start': 54, 'prob': 0.0, 'end': 57}, {'start': 58, 'prob': 0.0, 'end': 66}]\n",
      "[]\n"
     ]
    }
   ],
   "source": [
    "def calculate_soft_labels(words, hallucination_scores, theta = 1):\n",
    "    soft_labels = []\n",
    "    \n",
    "    # Initialize the starting position of the first word\n",
    "    start_position = 0\n",
    "\n",
    "    for word, score in zip(words, hallucination_scores):\n",
    "        word_length = len(word)\n",
    "        \n",
    "        # Calculate the ending position\n",
    "        end_position = start_position + word_length\n",
    "        \n",
    "        # Append the soft label entry\n",
    "        soft_labels.append({\n",
    "            \"start\": start_position,\n",
    "            \"prob\": score * theta,\n",
    "            \"end\": end_position\n",
    "        })\n",
    "        \n",
    "        # Update the starting position for the next word (accounting for space)\n",
    "        start_position = end_position + 1  # Add 2 for the space between words\n",
    "\n",
    "    return soft_labels\n",
    "\n",
    "# Example usage\n",
    "data = {\n",
    "    \"words evaluated\": [\" \", \"No,\", \"Albero\", \"Foulois\", \"was\", \"not\", \"in\", \"any\", \"of\", \"the\", \"FIFA\", \"World\", \"Cup\", \"finals.\\n\"],\n",
    "    \"hallucination_scores_evaluated\": [0, 1.0, 0.06837508948018978, 0.9810742402775567, 0.5219719747190859, 0.8440420620456921, 0.039483340157654756, 0.7283849860862854, 0.0, 0.12374613816374336, 0.9193932406560029, 0.0, 0.0, 0.0]\n",
    "}\n",
    "\n",
    "soft_labels = calculate_soft_labels(data[\"words evaluated\"], data[\"hallucination_scores_evaluated\"], theta=0.5)\n",
    "\n",
    "# Output the result\n",
    "print(soft_labels)\n",
    "\n",
    "hard_labels = recompute_hard_labels(soft_labels)\n",
    "print(hard_labels)\n"
   ]
  },
  {
   "cell_type": "markdown",
   "metadata": {},
   "source": [
    "# Generation of soft and hard labels"
   ]
  },
  {
   "cell_type": "code",
   "execution_count": 7,
   "metadata": {},
   "outputs": [],
   "source": [
    "import json \n",
    "import os\n",
    "\n",
    "data_dir = \"data/test\"\n",
    "output_path = os.path.join(data_dir, \"results_full.jsonl\")\n",
    "if os.path.exists(output_path):\n",
    "    with open(output_path, \"r\") as f:\n",
    "        processed_data = [json.loads(line) for line in f]"
   ]
  },
  {
   "cell_type": "code",
   "execution_count": null,
   "metadata": {},
   "outputs": [],
   "source": [
    "len(processed_data[1]['results']), len(processed_data[1]['words_evaluated'])"
   ]
  },
  {
   "cell_type": "code",
   "execution_count": 3,
   "metadata": {},
   "outputs": [],
   "source": [
    "import json \n",
    "import os\n",
    "\n",
    "# data_dir = \"data/test\"\n",
    "# output_path = os.path.join(data_dir, \"results_mult.jsonl\")\n",
    "# if os.path.exists(output_path):\n",
    "#     with open(output_path, \"r\") as f:\n",
    "#         processed_data = [json.loads(line) for line in f]\n",
    "result_path = os.path.join(data_dir, \"final_results.jsonl\")\n",
    "\n",
    "for entry in processed_data: \n",
    "    try:\n",
    "        words_evaluated = entry['words evaluated']\n",
    "        hallucination_scores_evaluated = entry['hallucination_scores_evaluated']\n",
    "    except:\n",
    "        words_evaluated = entry['hallucination_scores_evaluated'][0]\n",
    "        hallucination_scores_evaluated = entry['hallucination_scores_evaluated'][1]\n",
    "    \n",
    "    # if the first element of the words evaluated is \"\", then remove it and the corresponding hallucination score\n",
    "    if words_evaluated[0] == \"\":\n",
    "        words_evaluated[0] = \" \"\n",
    "        hallucination_scores_evaluated[0] = 0\n",
    "    \n",
    "    soft_labels = calculate_soft_labels(words_evaluated, hallucination_scores_evaluated)\n",
    "    hard_labels = recompute_hard_labels(soft_labels)\n",
    "\n",
    "    # save the hard labels to the processed data\n",
    "    entry['hard_labels'] = hard_labels\n",
    "    entry['soft_labels'] = soft_labels\n",
    "\n",
    "    # save the processed data to the new file\n",
    "    with open(result_path, \"w\") as f:\n",
    "        for entry in processed_data:\n",
    "            f.write(json.dumps(entry) + \"\\n\")\n",
    "        \n",
    "    assert len(words_evaluated) == len(hallucination_scores_evaluated)\n",
    "    "
   ]
  },
  {
   "cell_type": "markdown",
   "metadata": {},
   "source": [
    "# MNLI on full sentence dataset"
   ]
  },
  {
   "cell_type": "code",
   "execution_count": 1,
   "metadata": {},
   "outputs": [],
   "source": [
    "import os\n",
    "import json\n",
    "\n",
    "data_dir = \"data/test\"\n",
    "output_path = os.path.join(data_dir, \"results_full.jsonl\")\n",
    "if os.path.exists(output_path):\n",
    "    with open(output_path, \"r\") as f:\n",
    "        processed_data = [json.loads(line) for line in f]"
   ]
  },
  {
   "cell_type": "code",
   "execution_count": null,
   "metadata": {},
   "outputs": [],
   "source": [
    "from transformers import AutoModelForSequenceClassification, AutoTokenizer\n",
    "import torch\n",
    "\n",
    "def get_mnli_probs(sentence_1, sentence_2, model, tokenizer, word_evaluated, device = \"cpu\"):\n",
    "    # if the two sentences are longer than the maximum length, cut them around a defined word \n",
    "\n",
    "    inputs = tokenizer(sentence_1, sentence_2, return_tensors=\"pt\").to(device)\n",
    "    max_length = 512\n",
    "    if len(inputs.input_ids[0]) > max_length:\n",
    "        input_1 = mnli_tokenizer(sentence_1, return_tensors=\"pt\").to(device)\n",
    "        input_2 = mnli_tokenizer(sentence_2, return_tensors=\"pt\").to(device)\n",
    "        word_tokenized = mnli_tokenizer.encode(word_evaluated)[1]\n",
    "        for i, token in enumerate(inputs.input_ids[0]):\n",
    "            if token == word_tokenized:\n",
    "                token_position = i\n",
    "                break\n",
    "\n",
    "        # cut the sentences around the word\n",
    "        half_length = max_length // 2\n",
    "        start = max(0, token_position - half_length)\n",
    "        end = min(len(inputs.input_ids[0]), token_position + half_length)\n",
    "\n",
    "        input_1 = input_1.input_ids[0][start:end]\n",
    "        input_2 = input_2.input_ids[0][start:end]\n",
    "        input_1_decoded = mnli_tokenizer.decode(input_1, skip_special_tokens=True)\n",
    "        input_2_decoded = mnli_tokenizer.decode(input_2, skip_special_tokens=True)\n",
    "        inputs = mnli_tokenizer(input_1_decoded, input_2_decoded, return_tensors=\"pt\").to(device)\n",
    "\n",
    "    outputs = model(**inputs)\n",
    "    predicted_class_prob = outputs.logits.softmax(dim=1)\n",
    "    return predicted_class_prob\n",
    "\n",
    "device = \"cuda\"\n",
    "\n",
    "mnli_model = AutoModelForSequenceClassification.from_pretrained(\"cross-encoder/nli-deberta-v3-large\").to(device)\n",
    "mnli_tokenizer = AutoTokenizer.from_pretrained(\"cross-encoder/nli-deberta-v3-large\")"
   ]
  },
  {
   "cell_type": "code",
   "execution_count": null,
   "metadata": {},
   "outputs": [],
   "source": [
    "from tqdm import tqdm\n",
    "for sample in tqdm(processed_data):\n",
    "    try: \n",
    "        device = \"cuda\"\n",
    "        mnli_model = mnli_model.to(device)\n",
    "        gold_sentence = sample['model_output_text']\n",
    "        for i, results in enumerate(sample['results']):\n",
    "            word_to_replace = sample['words_evaluated'][i]\n",
    "            for result in results: \n",
    "                word = result['full_word']\n",
    "                output_sentence = gold_sentence.replace(word_to_replace, word)\n",
    "                prob = get_mnli_probs(gold_sentence, output_sentence, mnli_model, mnli_tokenizer, word_to_replace, device).tolist()\n",
    "                result['sentence_mnli_prob'] = prob\n",
    "            torch.cuda.empty_cache()\n",
    "    except RuntimeError as e:\n",
    "        if \"CUDA out of memory\" in str(e):\n",
    "            print(e)\n",
    "            torch.cuda.empty_cache()\n",
    "            device = \"cpu\"\n",
    "            mnli_model = mnli_model.to(device)\n",
    "            gold_sentence = sample['model_output_text']\n",
    "            for i, results in enumerate(sample['results']):\n",
    "                word_to_replace = sample['words_evaluated'][i]\n",
    "                for result in results: \n",
    "                    word = result['full_word']\n",
    "                    output_sentence = gold_sentence.replace(word_to_replace, word)\n",
    "                    prob = get_mnli_probs(gold_sentence, output_sentence, mnli_model, mnli_tokenizer, device).tolist()\n",
    "                    result['sentence_mnli_prob'] = prob\n",
    "            else: \n",
    "                raise e\n",
    "\n"
   ]
  },
  {
   "cell_type": "code",
   "execution_count": 4,
   "metadata": {},
   "outputs": [],
   "source": [
    "# save the processed data to the new file\n",
    "result_path = os.path.join(data_dir, \"results_full_sentence.jsonl\")\n",
    "with open(result_path, \"w\") as f:\n",
    "    for entry in processed_data:\n",
    "        f.write(json.dumps(entry) + \"\\n\")"
   ]
  },
  {
   "cell_type": "code",
   "execution_count": null,
   "metadata": {},
   "outputs": [],
   "source": [
    "sample['results'][5]"
   ]
  },
  {
   "cell_type": "markdown",
   "metadata": {},
   "source": [
    "# Treshold evaluation on val dataset"
   ]
  },
  {
   "cell_type": "code",
   "execution_count": 3,
   "metadata": {},
   "outputs": [],
   "source": [
    "import os\n",
    "import json\n",
    "\n",
    "data_dir = \"data/val\"\n",
    "output_path = os.path.join(data_dir, \"results_full_sentence.jsonl\")\n",
    "if os.path.exists(output_path):\n",
    "    with open(output_path, \"r\") as f:\n",
    "        processed_data = [json.loads(line) for line in f]"
   ]
  },
  {
   "cell_type": "code",
   "execution_count": 4,
   "metadata": {},
   "outputs": [
    {
     "data": {
      "text/plain": [
       "dict_keys(['id', 'lang', 'model_input', 'model_output_text', 'model_id', 'soft_labels', 'hard_labels', 'model_output_logits', 'model_output_tokens', 'words_evaluated', 'results'])"
      ]
     },
     "execution_count": 4,
     "metadata": {},
     "output_type": "execute_result"
    }
   ],
   "source": [
    "processed_data[0].keys()"
   ]
  },
  {
   "cell_type": "code",
   "execution_count": 5,
   "metadata": {},
   "outputs": [
    {
     "data": {
      "text/plain": [
       "array([0. , 0. , 0. , 0. , 0. , 0. , 0. , 0. , 0. , 0. , 0.2, 0.2, 0.3,\n",
       "       0.2, 0.2, 0.2, 0.2, 0.2, 0. , 0. , 0. , 0. , 0. , 0. , 0. , 0.9,\n",
       "       0.9, 0.9, 0.9, 0.9, 0.9, 0.1, 0.1, 0.1, 0.1, 0.1, 0.1, 0. , 0. ,\n",
       "       0. , 0. , 0. , 0. , 0. , 0. , 1. , 1. , 1. , 1. , 0.3, 0.3, 0.3,\n",
       "       0.3, 0.3, 0.3, 0.3, 0.3, 0.3, 0.3, 0.3, 0.3, 0.3, 0.3, 0.3, 0.3,\n",
       "       0.2, 0.2, 0.2, 0.2, 0.9, 0.9, 0.9, 0.9, 0.9, 0.9, 0.9, 0.9, 0.9,\n",
       "       0.9, 0.9, 0.9, 0.9, 0.9, 0. ])"
      ]
     },
     "execution_count": 5,
     "metadata": {},
     "output_type": "execute_result"
    }
   ],
   "source": [
    "gold = convert_probs_to_array(processed_data[0]['soft_labels'], len(processed_data[0]['model_output_text']))\n",
    "gold"
   ]
  },
  {
   "cell_type": "code",
   "execution_count": 6,
   "metadata": {},
   "outputs": [],
   "source": [
    "for entry in processed_data:\n",
    "    assert len(entry['words_evaluated']) == len(entry['results'])\n",
    "\n",
    "res = processed_data[0]['results']"
   ]
  },
  {
   "cell_type": "code",
   "execution_count": 7,
   "metadata": {},
   "outputs": [
    {
     "data": {
      "text/plain": [
       "'\\n\"id2label\": {\\n    \"0\": \"contradiction\",\\n    \"1\": \"entailment\",\\n    \"2\": \"neutral\"\\n  },\\n'"
      ]
     },
     "execution_count": 7,
     "metadata": {},
     "output_type": "execute_result"
    }
   ],
   "source": [
    "'''\n",
    "\"id2label\": {\n",
    "    \"0\": \"contradiction\",\n",
    "    \"1\": \"entailment\",\n",
    "    \"2\": \"neutral\"\n",
    "  },\n",
    "'''"
   ]
  },
  {
   "cell_type": "code",
   "execution_count": 9,
   "metadata": {},
   "outputs": [
    {
     "name": "stdout",
     "output_type": "stream",
     "text": [
      "Word evaluated:  Petra\n",
      "Hallucination score:  0.4152102624536521\n",
      "Word evaluated:  van\n",
      "Hallucination score:  0.0\n",
      "Word evaluated:  Stoveren\n",
      "Hallucination score:  0.0\n",
      "Word evaluated:  won\n",
      "Hallucination score:  0.10810976880906098\n",
      "Word evaluated:  a\n",
      "Hallucination score:  0.0\n",
      "Word evaluated:  silver\n",
      "Hallucination score:  1.0\n",
      "Word evaluated:  medal\n",
      "Hallucination score:  0.0\n",
      "Word evaluated:  in\n",
      "Hallucination score:  0.1942793765914952\n",
      "Word evaluated:  the\n",
      "Hallucination score:  0.36552524771790396\n",
      "Word evaluated:  2008\n",
      "Hallucination score:  0.9881932590215201\n",
      "Word evaluated:  Summer\n",
      "Hallucination score:  0.0\n",
      "Word evaluated:  Olympics\n",
      "Hallucination score:  0.191932786336396\n",
      "Word evaluated:  in\n",
      "Hallucination score:  0.0\n",
      "Word evaluated:  Beijing,\n",
      "Hallucination score:  0.0\n",
      "Word evaluated:  China.\n",
      "Hallucination score:  0.0\n"
     ]
    }
   ],
   "source": [
    "import torch\n",
    "soft_labels_per_word = []\n",
    "for i, res in enumerate(processed_data[0]['results']):\n",
    "    print(\"Word evaluated: \", processed_data[0]['words_evaluated'][i])\n",
    "    \n",
    "    p_i = [prob['token_prob'] for prob in res]\n",
    "    p_plus = [prob['sentence_mnli_prob'][0][1] + prob['sentence_mnli_prob'][0][2] for prob in res]\n",
    "    softmax = [torch.tensor(prob['sentence_mnli_prob'][0]).softmax(dim=0).argmax().item() for prob in res]\n",
    "    p_plus = [1 if prob == 1 else 0 for prob in softmax]\n",
    "    #p_plus = [prob['sentence_mnli_prob'][0][1] for prob in word]\n",
    "    p_i = np.array(p_i)\n",
    "    p_plus = np.array(p_plus)\n",
    "    hallucination_score = 1 - (sum(p_i * p_plus) / sum(p_i))\n",
    "    print(\"Hallucination score: \", hallucination_score)\n",
    "    soft_labels_per_word.append(hallucination_score)\n",
    "\n",
    "res_obtained = calculate_soft_labels(processed_data[0][\"words_evaluated\"], soft_labels_per_word)"
   ]
  },
  {
   "cell_type": "code",
   "execution_count": 10,
   "metadata": {},
   "outputs": [
    {
     "data": {
      "text/plain": [
       "'Petra van Stoveren won a silver medal in the 2008 Summer Olympics in Beijing, China.'"
      ]
     },
     "execution_count": 10,
     "metadata": {},
     "output_type": "execute_result"
    }
   ],
   "source": [
    "processed_data[0][\"model_output_text\"]"
   ]
  },
  {
   "cell_type": "code",
   "execution_count": 12,
   "metadata": {},
   "outputs": [
    {
     "data": {
      "text/plain": [
       "array([0. , 0. , 0. , 0. , 0. , 0. , 0. , 0. , 0. , 0. , 0.2, 0.2, 0.3,\n",
       "       0.2, 0.2, 0.2, 0.2, 0.2, 0. , 0. , 0. , 0. , 0. , 0. , 0. , 0.9,\n",
       "       0.9, 0.9, 0.9, 0.9, 0.9, 0.1, 0.1, 0.1, 0.1, 0.1, 0.1, 0. , 0. ,\n",
       "       0. , 0. , 0. , 0. , 0. , 0. , 1. , 1. , 1. , 1. , 0.3, 0.3, 0.3,\n",
       "       0.3, 0.3, 0.3, 0.3, 0.3, 0.3, 0.3, 0.3, 0.3, 0.3, 0.3, 0.3, 0.3,\n",
       "       0.2, 0.2, 0.2, 0.2, 0.9, 0.9, 0.9, 0.9, 0.9, 0.9, 0.9, 0.9, 0.9,\n",
       "       0.9, 0.9, 0.9, 0.9, 0.9, 0. ])"
      ]
     },
     "execution_count": 12,
     "metadata": {},
     "output_type": "execute_result"
    }
   ],
   "source": [
    "gold = convert_probs_to_array(processed_data[0]['soft_labels'], len(processed_data[0]['model_output_text']))\n",
    "gold"
   ]
  },
  {
   "cell_type": "code",
   "execution_count": 54,
   "metadata": {},
   "outputs": [
    {
     "name": "stdout",
     "output_type": "stream",
     "text": [
      "49 49\n"
     ]
    }
   ],
   "source": [
    "import torch\n",
    "\n",
    "target = []\n",
    "output = []\n",
    "\n",
    "for entry in processed_data:\n",
    "    res = entry['results']\n",
    "    soft_labels_per_word = []\n",
    "    for word in res: \n",
    "        p_i = [prob['token_prob'] for prob in word]\n",
    "        p_plus = [prob['sentence_mnli_prob'][0][1] + prob['sentence_mnli_prob'][0][2] for prob in word]\n",
    "        softmax = [torch.tensor(prob['sentence_mnli_prob'][0]).softmax(dim=0).argmax().item() for prob in word]\n",
    "        p_plus = [1 if prob == 1 else 0 for prob in softmax]\n",
    "        #p_plus = [prob['sentence_mnli_prob'][0][1] for prob in word]\n",
    "        p_i = np.array(p_i)\n",
    "        p_plus = np.array(p_plus)\n",
    "        hallucination_score = 1 - (sum(p_i * p_plus) / sum(p_i))\n",
    "        hallucination_score = hallucination_score * 1\n",
    "        soft_labels_per_word.append(hallucination_score)\n",
    "\n",
    "    soft_labels = calculate_soft_labels(entry['words_evaluated'], soft_labels_per_word)\n",
    "    res_obtained = convert_probs_to_array(soft_labels, len(entry['model_output_text']))\n",
    "    gold = convert_probs_to_array(entry['soft_labels'], len(entry['model_output_text']))\n",
    "    target.append(gold)\n",
    "    output.append(res_obtained)\n",
    "\n",
    "print(len(target), len(output))   "
   ]
  },
  {
   "cell_type": "code",
   "execution_count": 55,
   "metadata": {},
   "outputs": [],
   "source": [
    "def iou_evaluator(target, output):\n",
    "    temp_target = np.array([1 if t > 0.5 else 0 for t in target])\n",
    "    temp_output = np.array([1 if o > 0.5 else 0 for o in output])\n",
    "    \n",
    "    overlap = temp_target * temp_output\n",
    "    union = temp_target + temp_output\n",
    "\n",
    "    return overlap.sum()/float(union.sum()+1e-6)"
   ]
  },
  {
   "cell_type": "code",
   "execution_count": 56,
   "metadata": {},
   "outputs": [
    {
     "data": {
      "image/png": "[encoded data removed]",
      "text/plain": [
       "<Figure size 640x480 with 2 Axes>"
      ]
     },
     "metadata": {},
     "output_type": "display_data"
    }
   ],
   "source": [
    "import matplotlib.pyplot as plt\n",
    "import numpy as np\n",
    "from scipy.stats import pearsonr\n",
    "\n",
    "# make an optimization problem to find the best theta that minimize the mse\n",
    "thetas = np.linspace(0.001, 5, 500)\n",
    "mses = []\n",
    "ious = []\n",
    "for theta in thetas:\n",
    "    temp = []\n",
    "    temp_iou = []\n",
    "    for i in range(len(output)):\n",
    "        res = output[i] * theta\n",
    "        # cap the values to 1\n",
    "        res = np.minimum(res, 1)\n",
    "\n",
    "        correlation, _ = pearsonr(res, target[i])\n",
    "        iou = iou_evaluator(target[i], res)\n",
    "\n",
    "        temp.append(correlation)\n",
    "        temp_iou.append(np.mean(iou))\n",
    "\n",
    "    mses.append(np.mean(temp))\n",
    "    ious.append(np.mean(temp_iou))\n",
    "\n",
    "fig, ax1 = plt.subplots()\n",
    "\n",
    "color = 'tab:blue'\n",
    "ax1.set_xlabel('Theta')\n",
    "ax1.set_ylabel('IOU', color=color)\n",
    "ax1.plot(thetas, ious, color=color)\n",
    "ax1.tick_params(axis='y', labelcolor=color)\n",
    "\n",
    "ax2 = ax1.twinx()\n",
    "color = 'tab:red'\n",
    "ax2.set_ylabel('correlation', color=color)\n",
    "ax2.plot(thetas, mses, color=color)\n",
    "ax2.tick_params(axis='y', labelcolor=color)\n",
    "\n",
    "plt.axvline(x=1, linestyle='--')\n",
    "\n",
    "fig.tight_layout()\n",
    "max = ious.index(np.max(ious))\n",
    "plt.title(f'best theta {thetas[max]:.2f}, iou {ious[max]:.2f}, corr {mses[max]:.2f}')\n",
    "plt.show()\n"
   ]
  },
  {
   "cell_type": "code",
   "execution_count": 19,
   "metadata": {},
   "outputs": [
    {
     "data": {
      "text/plain": [
       "PearsonRResult(statistic=0.8999732473284425, pvalue=0.014507625477586644)"
      ]
     },
     "execution_count": 19,
     "metadata": {},
     "output_type": "execute_result"
    }
   ],
   "source": [
    "a = np.array([0.1, 0.2, 0.3, 0.4, 0.5, 0.6])\n",
    "b = np.array([0.1, 0.2, 0.2, 0.2, 0.5, 0.5]) * 10\n",
    "\n",
    "pearsonr(a,b)"
   ]
  },
  {
   "cell_type": "code",
   "execution_count": 25,
   "metadata": {},
   "outputs": [
    {
     "data": {
      "text/plain": [
       "array([0.2, 0.4, 0.6, 0.8, 1. , 1.2])"
      ]
     },
     "execution_count": 25,
     "metadata": {},
     "output_type": "execute_result"
    }
   ],
   "source": [
    "output = np.array([0.1, 0.2, 0.3, 0.4, 0.5, 0.6])\n",
    "theta_matrix = np.ones_like(output) * 0.5\n",
    "theta_matrix = 2\n",
    "theta_matrix * output"
   ]
  },
  {
   "cell_type": "code",
   "execution_count": null,
   "metadata": {},
   "outputs": [],
   "source": [
    "# print theta at 1 \n",
    "mses[100]"
   ]
  },
  {
   "cell_type": "markdown",
   "metadata": {},
   "source": [
    "# Submission"
   ]
  },
  {
   "cell_type": "code",
   "execution_count": 5,
   "metadata": {},
   "outputs": [],
   "source": [
    "import os\n",
    "import json\n",
    "\n",
    "data_dir = \"data/test\"\n",
    "output_path = os.path.join(data_dir, \"results_full_sentence.jsonl\")\n",
    "if os.path.exists(output_path):\n",
    "    with open(output_path, \"r\") as f:\n",
    "        processed_data = [json.loads(line) for line in f]\n",
    "\n"
   ]
  },
  {
   "cell_type": "code",
   "execution_count": 12,
   "metadata": {},
   "outputs": [],
   "source": [
    "# RESULT GENERATION \n",
    "import torch\n",
    "import numpy as np\n",
    "\n",
    "for entry in processed_data:\n",
    "    res = entry['results']\n",
    "    soft_labels_per_word = []\n",
    "    for word in res: \n",
    "        p_i = [prob['token_prob'] for prob in word]\n",
    "        p_plus = [prob['sentence_mnli_prob'][0][1] + prob['sentence_mnli_prob'][0][2] for prob in word]\n",
    "        p_plus = [prob['sentence_mnli_prob'][0][1] for prob in word]\n",
    "        # softmax = [torch.tensor(prob['sentence_mnli_prob'][0]).softmax(dim=0).argmax().item() for prob in word]\n",
    "        # p_plus = [1 if prob == 1 else 0 for prob in softmax]\n",
    "        #p_plus = [prob['sentence_mnli_prob'][0][1] for prob in word]\n",
    "        p_i = np.array(p_i)\n",
    "        p_plus = np.array(p_plus)\n",
    "        hallucination_score = 1 - (sum(p_i * p_plus) / sum(p_i))\n",
    "        hallucination_score = hallucination_score\n",
    "        soft_labels_per_word.append(hallucination_score)\n",
    "\n",
    "    soft_labels = calculate_soft_labels(entry['words_evaluated'], soft_labels_per_word)\n",
    "    res_obtained = convert_probs_to_array(soft_labels, len(entry['model_output_text']))\n",
    "    # remove soft labels entry if start_position == end_position\n",
    "    soft_labels = [label for label in soft_labels if label['start'] != label['end']]\n",
    "    entry['soft_labels'] = soft_labels\n",
    "\n",
    "    hard_labels = recompute_hard_labels(soft_labels)\n",
    "    entry['hard_labels'] = hard_labels\n",
    "\n",
    "# save submission \n",
    "result_path = os.path.join(data_dir, \"results_final_1_p_plus.jsonl\")\n",
    "with open(result_path, \"w\") as f:\n",
    "    for entry in processed_data:\n",
    "        f.write(json.dumps(entry) + \"\\n\")"
   ]
  }
 ],
 "metadata": {
  "kernelspec": {
   "display_name": "Python 3",
   "language": "python",
   "name": "python3"
  },
  "language_info": {
   "codemirror_mode": {
    "name": "ipython",
    "version": 3
   },
   "file_extension": ".py",
   "mimetype": "text/x-python",
   "name": "python",
   "nbconvert_exporter": "python",
   "pygments_lexer": "ipython3",
   "version": "3.11.11"
  }
 },
 "nbformat": 4,
 "nbformat_minor": 2
}
